{
 "cells": [
  {
   "cell_type": "markdown",
   "metadata": {
    "slideshow": {
     "slide_type": "slide"
    }
   },
   "source": [
    "# Data Science Africa -- Summer School\n",
    "\n",
    "## Data Visualisation Practical Session\n",
    "\n",
    "<br/>\n",
    "<br/>\n",
    "\n",
    "<div align=\"right\"><font face=\"monospace\" size=\"4\">\n",
    "    <strong>Morine</strong> Amutorine -- morine.amutorine@one.un.org <br/>\n",
    "    <strong>Elaine</strong> Nsoesie -- onelaine@bu.edu <br/>\n",
    "    <strong>Lehel</strong> Csató -- lehel.csato@cs.ubbcluj.ro\n",
    "    </font></div>\n",
    "\n",
    "#### Setup\n",
    "\n",
    "> We assume that <br/>\n",
    "> **[Anaconda](https://www.anaconda.com)** <br>\n",
    "> is available (downloaded and installed) on your system.\n",
    "\n",
    "<div align=\"right\">\n",
    "Alternatively, if you have <strong>some</strong> Python <br/>\n",
    "and Matplotlib <br/>\n",
    "and Pandas <br/>\n",
    "and Numpy <br/>\n",
    "and Cartopy <br/>\n",
    "    <div color=\"red\">;-) , it suffices.</div>\n",
    "</div>\n",
    "\n",
    "From within anaconda (or python) will will be using the<br>\n",
    "1. *jupyter* interface and \n",
    "1. *matplotlib*\n",
    "1. *cartopy*\n",
    "\n",
    "This is a **scripting** interface for Python that is helpful for exploratory data analysis.\n",
    "\n",
    "You can \n",
    "1. edit the notebook by simply entering commands and\n",
    "1. press SHIFT-ENTER or CTRL-ENTER to evaluate the cell within the notebook\n",
    "\n",
    "> Observe that the evaluation of the cells might not be linear, _but_ the variables are created when a cell is evaluated, therefore the internal state of the notebook **is** linear -- rflecting the **order** in which cells were evaluated."
   ]
  },
  {
   "cell_type": "code",
   "execution_count": null,
   "metadata": {},
   "outputs": [],
   "source": [
    "%matplotlib inline\n",
    "#other options: inline\n",
    "import matplotlib.pyplot as plt\n",
    "import numpy as np\n",
    "# press SHIFT-ENTER or CTRL-ENTER"
   ]
  },
  {
   "cell_type": "markdown",
   "metadata": {},
   "source": [
    "In the above cell we initialised the *pyplot* interface and numpy (for the random number generation)"
   ]
  },
  {
   "cell_type": "code",
   "execution_count": null,
   "metadata": {},
   "outputs": [],
   "source": [
    "x = np.random.randn(10000)\n",
    "\n",
    "plt.figure(figsize=(5, 3))\n",
    "plt.hist(x,100)\n",
    "plt.title('Normal distribution with $\\mu=0, \\sigma=1$')\n",
    "# plt.savefig('histogram2.pdf') # this is if we want to save to an image\n",
    "plt.show()"
   ]
  },
  {
   "cell_type": "code",
   "execution_count": null,
   "metadata": {},
   "outputs": [],
   "source": [
    "# We can modify the figure as long as it is active.\n",
    "# ALL *PLT* commands from the PYPLOT interface modify the\n",
    "# *active* figure (if none is active, the figure is created)\n",
    "plt.title('Histogram of $1000$ points from $N(0,1)$ in $100$ bins')"
   ]
  },
  {
   "cell_type": "markdown",
   "metadata": {},
   "source": [
    "## Using real data\n",
    "\n",
    "There are perils ... "
   ]
  },
  {
   "cell_type": "code",
   "execution_count": null,
   "metadata": {},
   "outputs": [],
   "source": [
    "# we are using the PANDA dataframe library\n",
    "import pandas as pd\n",
    "from __future__ import print_function # for compatibility\n",
    "!pwd\n",
    "# the above command is to test the current working directory"
   ]
  },
  {
   "cell_type": "code",
   "execution_count": null,
   "metadata": {
    "scrolled": false
   },
   "outputs": [],
   "source": [
    "df_gdp = pd.read_excel(\n",
    "  'data/countries_gdp.xls',\n",
    "  sheet_name = 'Data', skiprows = range(3))\n",
    "# Reading in other data\n",
    "df_pop         = pd.read_excel('data/countries_population.xls',sheet_name = 'Data',skiprows = range(3))\n",
    "df_edu_percent = pd.read_excel('data/countries_edu_percent.xls',sheet_name = 'Data',skiprows = range(3))\n",
    "df_primary_014 = pd.read_excel('data/countries_primary_pupils_014.xls',sheet_name = 'Data',skiprows = range(3))\n",
    "df_pupils_014  = pd.read_excel('data/countries_pupils_014.xls',sheet_name = 'Data',skiprows = range(3))\n",
    "\n",
    "# We want to have selected countries, therefore creating indices for the four data-sets\n",
    "df_gdp.set_index(\"Country Name\", inplace=True)\n",
    "df_pop.set_index(\"Country Name\", inplace=True)\n",
    "df_edu_percent.set_index(\"Country Name\", inplace=True)\n",
    "df_primary_014.set_index(\"Country Name\", inplace=True)\n",
    "df_pupils_014.set_index(\"Country Name\", inplace=True)\n",
    "#\n",
    "#!! the making of indices is irreversible, doable only ONCE\n",
    "#!! error if done multiple times\n",
    "\n",
    "# we can confirm the importing -- HERE works\n",
    "# df_gdp.head()"
   ]
  },
  {
   "cell_type": "markdown",
   "metadata": {},
   "source": [
    "We have the following tables (DataFrames in **Pandas**):\n",
    "\n",
    "- **df_pop** -- the Dataframe containing _POPULATION_\n",
    "- **df_edu_percent** -- the Dataframe containing _EDUCATION_PERCENTAGE_\n",
    "* **df_primary_014** -- the Dataframe containing _PUPILS_IN_PRIMARY_SCHOOL_\n",
    "* **df_pupils_014** -- the Dataframe containing _PUPILS_AGED_0_14_"
   ]
  },
  {
   "cell_type": "code",
   "execution_count": null,
   "metadata": {
    "scrolled": false
   },
   "outputs": [],
   "source": [
    "years = list( map( str, range(2000,2018)))\n",
    "\n",
    "# we might try LINE ...\n",
    "%matplotlib inline\n",
    "df_gdp.loc['Nigeria', years].plot(kind='bar',color=(.2,.6,.2))\n",
    "plt.title(\"Nigerian GDP\")\n",
    "plt.xlabel('Years')\n",
    "plt.ylabel('GDP')\n",
    "plt.xticks(list(range(0,18)), years)\n",
    "plt.show()"
   ]
  },
  {
   "cell_type": "markdown",
   "metadata": {},
   "source": [
    "## Visualising comparisons\n",
    "\n",
    "The aim is to make a visualisation of multiple data items:\n",
    "1. there were the years, but\n",
    "1. we also want to plot on the same plot different coutries from the \"neighbourhood\" <br/>\n",
    "  Cameroon, Tanzania, Niger, ..."
   ]
  },
  {
   "cell_type": "code",
   "execution_count": null,
   "metadata": {},
   "outputs": [],
   "source": [
    "# declaring data for our data visualisation:\n",
    "# we are interested only in a small set of countries\n",
    "#\n",
    "# this is a dictionary having COUNTRY names as KEYS,\n",
    "# and COLOR codes as attribute\n",
    "#\n",
    "colors = {\n",
    "    \"Nigeria\": (.2,.7,.2),\n",
    "    \"Niger\":   (.4,.4,0),\n",
    "    \"Uganda\":  (1, .6,.6),\n",
    "    \"Rwanda\":  (1,.5,.8),\n",
    "    \"Central African Republic\": (.2,.3,.4),\n",
    "    \"Republic of the Congo\": (.2,.1,.4),\n",
    "    \"Gabon\":  (1,.9,.8),\n",
    "    \"Somalia\":  (.1,.8,.3),\n",
    "    \"Kenya\":   (.3,.1,.8),\n",
    "    \"Sudan\":   (1,.0,.9),\n",
    "    \"Chad\":    (.6,.2,.3),\n",
    "    \"Ethiopia\":(.3,.7,.5),\n",
    "    \"South Sudan\":(.2,.9,.8),\n",
    "    \"Cameroon\":(.3,.7,.3),\n",
    "    \"Democratic Republic of the Congo\": (.1,.3,0),\n",
    "    \"Tanzania\": (.8,.7,.2),\n",
    "    \"Burundi\": (.5,0,.8),\n",
    "    \"Benin\": (.5,.6,.1),\n",
    "    \"Togo\":  (.7,.2,.1),\n",
    "    \"Ghana\": (.1,.1,0)\n",
    "}\n",
    "# for further processing, we will need the names of\n",
    "# COUTRIES\n",
    "country_names = [k for k in colors.keys()]"
   ]
  },
  {
   "cell_type": "markdown",
   "metadata": {},
   "source": [
    "## Highlight important data: GPD for a specific country"
   ]
  },
  {
   "cell_type": "code",
   "execution_count": null,
   "metadata": {},
   "outputs": [],
   "source": [
    "# Exercise\n",
    "# Plot the GDP-s for all coutries in the list\n",
    "\n",
    "\n",
    "# HIGHLIGHT your contry's GDP\n",
    "# Example\n",
    "c_high = \"Uganda\"\n",
    "for c_name in country_names:\n",
    "    if c_name == c_high:\n",
    "        linewidth = 4\n",
    "    else:\n",
    "        linewidth = 1\n",
    "    df_gdp.loc[c_name, years].plot(kind='line',linewidth=linewidth, color=colors[c_name])\n",
    "# end for\n",
    "\n",
    "plt.legend(country_names,loc='upper left', bbox_to_anchor=(1, 1.2))\n",
    "plt.xlabel('Years')\n",
    "plt.ylabel('GDP in USD')\n",
    "plt.title(\"GDP per country\")\n",
    "plt.xticks(list(range(0,18,2)), years[::2])\n",
    "plt.show()"
   ]
  },
  {
   "cell_type": "code",
   "execution_count": null,
   "metadata": {
    "scrolled": true
   },
   "outputs": [],
   "source": [
    "temp1=df_gdp.loc[\"Nigeria\",years]\n",
    "temp2=df_pop.loc[\"Nigeria\",years]\n",
    "type(temp2)\n",
    "joined_data = temp1.div(temp2)\n",
    "\n",
    "joined_data.plot(kind='bar',color=(.2,.7,.2))\n",
    "plt.title(\"Nigerian GDP / capita\")\n",
    "plt.xlabel('Years')\n",
    "plt.ylabel('GDP / POP / YEAR')\n",
    "plt.xticks(list(range(0,18)), years)\n",
    "plt.show()"
   ]
  },
  {
   "cell_type": "code",
   "execution_count": null,
   "metadata": {},
   "outputs": [],
   "source": []
  },
  {
   "cell_type": "markdown",
   "metadata": {},
   "source": [
    "## What about comparison between coutries of interest"
   ]
  },
  {
   "cell_type": "code",
   "execution_count": null,
   "metadata": {},
   "outputs": [],
   "source": [
    "# Exercise\n",
    "# Plot the GDP-s per capita for all coutries in the list\n",
    "\n",
    "# HIGHLIGHT your contry's GDP\n",
    "# Example\n",
    "c_high = \"Nigeria\"\n",
    "for c_name in country_names:\n",
    "    if c_name == c_high:\n",
    "        linewidth = 4\n",
    "    else:\n",
    "        linewidth = 1\n",
    "    # making the ratio\n",
    "    temp1=df_gdp.loc[c_name,years]\n",
    "    temp2=df_pop.loc[c_name,years]\n",
    "    gdp_cap = temp1.div(temp2)\n",
    "    gdp_cap.plot(kind='line',linewidth=linewidth, color=colors[c_name] )\n",
    "# end for\n",
    "\n",
    "plt.title(\"GDP / capita\")\n",
    "plt.xlabel('Years')\n",
    "plt.ylabel('GDP / POP / YEAR')\n",
    "plt.xticks(list(range(0,18,2)), years[::2])\n",
    "plt.legend(country_names,loc='upper left', bbox_to_anchor=(1, 1.2))\n",
    "plt.show()"
   ]
  },
  {
   "cell_type": "code",
   "execution_count": null,
   "metadata": {
    "scrolled": false
   },
   "outputs": [],
   "source": [
    "# Solved exercise:\n",
    "#   plot the percent of education for the list of countries\n",
    "\n",
    "plt.figure(figsize=(8, 6))\n",
    "for c_name in country_names:\n",
    "    df_edu_percent.loc[c_name, years].plot(kind='line',linewidth=4, color=colors[c_name])\n",
    "# end for\n",
    "plt.legend(country_names,loc='upper left', bbox_to_anchor=(1, .9))\n",
    "plt.xlabel('Years')\n",
    "plt.ylabel('Education %')\n",
    "plt.title(\"Education percentages of GDP\")\n",
    "plt.xticks(list(range(0,8)), years)\n",
    "plt.show()"
   ]
  },
  {
   "cell_type": "code",
   "execution_count": null,
   "metadata": {},
   "outputs": [],
   "source": []
  },
  {
   "cell_type": "markdown",
   "metadata": {},
   "source": [
    "## Putting things on a map"
   ]
  },
  {
   "cell_type": "code",
   "execution_count": null,
   "metadata": {},
   "outputs": [],
   "source": [
    "import cartopy.io.shapereader as shp_reader\n",
    "import cartopy.crs as ccrs\n",
    "import cartopy as cartopy\n",
    "from matplotlib.figure import Figure  # the Figure artist\n",
    "import numpy as np\n",
    "\n",
    "# changing the way PLOTTING works\n",
    "%matplotlib inline"
   ]
  },
  {
   "cell_type": "code",
   "execution_count": null,
   "metadata": {},
   "outputs": [],
   "source": [
    "# reading in the data\n",
    "shp_file_name = shp_reader.natural_earth(resolution='110m',\n",
    "                                      category='cultural',\n",
    "                                      name='admin_0_countries')\n",
    "reader = shp_reader.Reader(shp_file_name)\n",
    "countries = [country for country in reader.records()]\n"
   ]
  },
  {
   "cell_type": "code",
   "execution_count": null,
   "metadata": {
    "slideshow": {
     "slide_type": "slide"
    }
   },
   "outputs": [],
   "source": [
    "# we define the function we want to be used\n",
    "# HELPER function to restrict the DATA\n",
    "def filter_country_attr_values(country_list, attr_name, attr_list):\n",
    "    result = []\n",
    "    for country in country_list:\n",
    "        for attr_value in attr_list:\n",
    "            if country.attributes[attr_name] == attr_value:\n",
    "                result.append(country)\n",
    "    return result\n",
    "# end filter_country_attr_values\n",
    "\n",
    "small_list = filter_country_attr_values(\n",
    "    countries, # the large data list\n",
    "    'NAME_EN', # the attribute to use\n",
    "    country_names # the list of attribute values\n",
    ")"
   ]
  },
  {
   "cell_type": "code",
   "execution_count": null,
   "metadata": {
    "slideshow": {
     "slide_type": "skip"
    }
   },
   "outputs": [],
   "source": [
    "small_list"
   ]
  },
  {
   "cell_type": "code",
   "execution_count": null,
   "metadata": {
    "slideshow": {
     "slide_type": "slide"
    }
   },
   "outputs": [],
   "source": [
    "# visualisation source: \n",
    "# https://gis.stackexchange.com/questions/88209/python-mapping-in-matplotlib-cartopy-color-one-country\n",
    "\n",
    "plt.figure(figsize=(12, 6))\n",
    "ax = plt.axes(projection=ccrs.PlateCarree())\n",
    "ax.stock_img()\n",
    "ax.add_feature(cartopy.feature.BORDERS, linestyle='-', alpha=.5)\n",
    "ax.add_feature(cartopy.feature.COASTLINE)\n",
    "for cs in small_list:\n",
    "    cs_col = colors[cs.attributes['NAME_EN']]\n",
    "    ax.add_geometries(cs.geometry, ccrs.PlateCarree(),\n",
    "                     facecolor = cs_col, alpha=0.15,\n",
    "                     label = cs.attributes['NAME_EN'])\n",
    "    (lon,lat) = cs.geometry.centroid.coords[0]\n",
    "    plt.text(lon-1,lat,cs.attributes['NAME_EN'],horizontalalignment='right',transform=ccrs.PlateCarree())\n",
    "    plt.scatter(lon,lat,marker='o',s=20,c=cs_col, alpha=.7)\n",
    "ax.set_extent([-5, 48, -8, 22], crs=ccrs.PlateCarree())\n",
    "plt.title(\"Countries of interest\")\n",
    "plt.show()"
   ]
  },
  {
   "cell_type": "code",
   "execution_count": null,
   "metadata": {
    "slideshow": {
     "slide_type": "slide"
    }
   },
   "outputs": [],
   "source": [
    "# Exercise:\n",
    "# Put on the MAP the GDP,\n",
    "plt.figure(figsize=(12, 6))\n",
    "ax = plt.axes(projection=ccrs.PlateCarree())\n",
    "ax.stock_img()\n",
    "ax.add_feature(cartopy.feature.BORDERS, linestyle='-', alpha=.5)\n",
    "ax.add_feature(cartopy.feature.COASTLINE)\n",
    "for cs in small_list:\n",
    "    cs_col = colors[cs.attributes['NAME_EN']]\n",
    "    cs_name= cs.attributes['NAME_EN']\n",
    "    ax.add_geometries(cs.geometry, ccrs.PlateCarree(),\n",
    "                     facecolor = cs_col, alpha=0.15,\n",
    "                     label = cs_name)\n",
    "    (lon,lat) = cs.geometry.centroid.coords[0]\n",
    "    plt.text(lon-1,lat-1,cs_name,horizontalalignment='right',transform=ccrs.PlateCarree())\n",
    "    size_c = df_gdp.loc[cs_name,\"2016\"]/10**9\n",
    "    if np.isnan(size_c):\n",
    "        size_c = 0.0001\n",
    "    plt.scatter(lon,lat,marker='o',s=12*size_c,c=cs_col, alpha=.4)\n",
    "    \n",
    "ax.set_extent([-5, 48, -8, 22], crs=ccrs.PlateCarree())\n",
    "plt.title(\"GDP in countries in 2016\")\n",
    "plt.show()"
   ]
  },
  {
   "cell_type": "code",
   "execution_count": null,
   "metadata": {},
   "outputs": [],
   "source": []
  },
  {
   "cell_type": "markdown",
   "metadata": {},
   "source": [
    "# Education results"
   ]
  },
  {
   "cell_type": "code",
   "execution_count": null,
   "metadata": {
    "slideshow": {
     "slide_type": "slide"
    }
   },
   "outputs": [],
   "source": [
    "# Exercise:\n",
    "# produce the ratio of pupils 0-14\n",
    "# going to schools\n",
    "plt.figure(figsize=(12, 6))\n",
    "ax = plt.axes(projection=ccrs.PlateCarree())\n",
    "ax.stock_img()\n",
    "ax.add_feature(cartopy.feature.BORDERS, linestyle='-', alpha=.5)\n",
    "ax.add_feature(cartopy.feature.COASTLINE)\n",
    "\n",
    "# selecting the YEAR OF INTEREST\n",
    "sel_year = \"2013\"\n",
    "\n",
    "for cs in small_list:\n",
    "    cs_col = colors[cs.attributes['NAME_EN']]\n",
    "    cs_name= cs.attributes['NAME_EN']\n",
    "    ax.add_geometries(cs.geometry, ccrs.PlateCarree(),\n",
    "                     facecolor = cs_col, alpha=0.15,\n",
    "                     label = cs_name)\n",
    "    (lon,lat) = cs.geometry.centroid.coords[0]\n",
    "    plt.text(lon-1,lat-1,cs_name,horizontalalignment='right',transform=ccrs.PlateCarree())\n",
    "    size_c = df_pupils_014.loc[cs_name,sel_year]/10**5\n",
    "    if np.isnan(size_c):\n",
    "        size_c = 0.0001\n",
    "    plt.scatter(lon,lat,marker='o',s=3*size_c,c=cs_col, alpha=.4)\n",
    "    # plotting on the same plot the EDUCATION\n",
    "    size_c = df_primary_014.loc[cs_name,sel_year]/10**5\n",
    "    if np.isnan(size_c):\n",
    "        size_c = 50\n",
    "        marker = 'x'\n",
    "    else:\n",
    "        marker='o'\n",
    "    plt.scatter(lon,lat,marker=marker,s=3*size_c,c=cs_col, alpha=1)\n",
    "    \n",
    "    \n",
    "ax.set_extent([-5, 48, -8, 22], crs=ccrs.PlateCarree())\n",
    "plt.title(\"Youngsters in \" + sel_year)\n",
    "plt.show()"
   ]
  },
  {
   "cell_type": "code",
   "execution_count": null,
   "metadata": {},
   "outputs": [],
   "source": []
  },
  {
   "cell_type": "markdown",
   "metadata": {
    "slideshow": {
     "slide_type": "slide"
    }
   },
   "source": [
    "# Conclusions\n",
    "\n",
    "- Data Visualisation is **nice**\n",
    "\n",
    "- You should have the **proper** data\n",
    "\n",
    "- You should have the **toolset**\n",
    "\n",
    "- You should have the patience\n",
    "\n",
    "\n",
    "<br/>\n",
    "<br/>\n",
    "<br/>\n",
    "\n",
    "[Hans Rosling](https://www.ted.com/talks/hans_rosling_shows_the_best_stats_you_ve_ever_seen)\n",
    "\n",
    "![gapminder.org -- realisation in **python**](gapmind.png \"Gapminder\")\n",
    "\n"
   ]
  }
 ],
 "metadata": {
  "kernelspec": {
   "display_name": "Python 3",
   "language": "python",
   "name": "python3"
  },
  "language_info": {
   "codemirror_mode": {
    "name": "ipython",
    "version": 3
   },
   "file_extension": ".py",
   "mimetype": "text/x-python",
   "name": "python",
   "nbconvert_exporter": "python",
   "pygments_lexer": "ipython3",
   "version": "3.6.8"
  }
 },
 "nbformat": 4,
 "nbformat_minor": 2
}
