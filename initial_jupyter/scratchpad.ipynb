{
 "cells": [
  {
   "cell_type": "markdown",
   "metadata": {},
   "source": [
    "# Scratch-pad Data visualisation"
   ]
  },
  {
   "cell_type": "code",
   "execution_count": null,
   "metadata": {},
   "outputs": [],
   "source": [
    "# one way to do data visualisation is to define BACKND and SCRIPTING\n",
    "# BACKEND -- physical -- defines the canvas\n",
    "# ARTIST  -- knows how to put ink on the CANVAS\n",
    "#   two types: ATOMIC and COMPOSITE\n",
    "# SCRIPTING -- for scientist that are not professionals\n",
    "#    -- essentially this is PYPLOT --\n",
    "from matplotlib.backends.backend_agg import FigureCanvasAgg as FigureCanvas\n",
    "from matplotlib.figure import Figure  # the Figure artist\n",
    "fig    = Figure()\n",
    "canvas = FigureCanvas(fig)\n",
    "import numpy as np\n",
    "x = np.random.randn(10000)\n",
    "ax = fig.add_subplot(111)\n",
    "ax.hist(x,100)\n",
    "ax.set_title('Normal distribution')\n",
    "fig.savefig('first_histogram.jpg')"
   ]
  },
  {
   "cell_type": "markdown",
   "metadata": {},
   "source": [
    "The codes are taken from the online COURSERA lecture\n",
    "\n",
    "DATA VISUALISATION WITH PYTHON: <br/>\n",
    "https://www.coursera.org/learn/python-for-data-visualization/\n",
    "\n",
    "The same examples can be found in the online book <br/>\n",
    "http://www.aosabook.org/en/matplotlib.html\n"
   ]
  },
  {
   "cell_type": "markdown",
   "metadata": {},
   "source": [
    "# Trying out the maps\n",
    "\n",
    "Since images are worth a thousand words ...\n",
    "\n",
    "We want a map/based illustration of the education system in CENTRAL AFRICA"
   ]
  },
  {
   "cell_type": "code",
   "execution_count": null,
   "metadata": {},
   "outputs": [],
   "source": [
    "# using basemap was a first attempt -- getting the individual coutries\n",
    "# was not feasible using functions -- this ia a nice example but the \n",
    "# newer version will be used: CARTOPY\n",
    "\n",
    "%matplotlib inline\n",
    "import numpy as np\n",
    "import matplotlib.pyplot as plt\n",
    "from mpl_toolkits.basemap import Basemap"
   ]
  },
  {
   "cell_type": "code",
   "execution_count": null,
   "metadata": {},
   "outputs": [],
   "source": [
    "plt.figure(figsize=(6, 6))\n",
    "m = Basemap(projection='lcc', resolution='c',\n",
    "            lat_0=11, lon_0=24,\n",
    "            width=6E6, height=3E6)\n",
    "m.bluemarble() #shadedrelief()\n",
    "m.drawcountries(color='black',linewidth=1)\n",
    "#m.drawrivers(color='aqua')\n"
   ]
  },
  {
   "cell_type": "code",
   "execution_count": null,
   "metadata": {},
   "outputs": [],
   "source": [
    "import cartopy.io.shapereader as shp_reader\n",
    "import cartopy.crs as ccrs\n",
    "import cartopy as cartopy\n",
    "from matplotlib.figure import Figure  # the Figure artist\n",
    "import numpy as np"
   ]
  },
  {
   "cell_type": "code",
   "execution_count": null,
   "metadata": {
    "scrolled": true
   },
   "outputs": [],
   "source": [
    "shp_file_name = shp_reader.natural_earth(resolution='110m',\n",
    "                                      category='cultural',\n",
    "                                      name='admin_0_countries')\n",
    "reader = shp_reader.Reader(shp_file_name)\n",
    "countries = [country for country in reader.records()]\n",
    "# finding the name\n",
    "for country in countries:\n",
    "    if country.attributes['REGION_WB'] == 'Sub-Saharan Africa':\n",
    "        print(country.attributes['NAME_EN'])\n"
   ]
  },
  {
   "cell_type": "code",
   "execution_count": null,
   "metadata": {},
   "outputs": [],
   "source": [
    "# declaring data for our data visualisation:\n",
    "# we are interested only in a small set of countries\n",
    "#\n",
    "# this is a dictionary having COUNTRY names as KEYS,\n",
    "# and COLOR codes as attribute\n",
    "#\n",
    "colors = {\n",
    "    \"Nigeria\": (0,1,1),\n",
    "    \"Niger\":   (.4,.4,0),\n",
    "    \"Uganda\":  (0, .7,.3),\n",
    "    \"Rwanda\":  (.3,.5,.8),\n",
    "    \"Central African Republic\": (.2,.3,.4),\n",
    "    \"Republic of the Congo\": (.2,.1,.4),\n",
    "    \"Gabon\":  (.5,.2,.7),\n",
    "    \"Somalia\":  (.1,.8,.3),\n",
    "    \"Kenya\":   (.3,.1,.8),\n",
    "    \"Sudan\":   (.2,.0,.9),\n",
    "    \"Chad\":    (.6,.2,.3),\n",
    "    \"Ethiopia\":(.3,.7,.5),\n",
    "    \"South Sudan\":(.2,.9,.8),\n",
    "    \"Cameroon\":(.3,.7,.3),\n",
    "    \"Democratic Republic of the Congo\": (.1,.3,0),\n",
    "    \"Tanzania\": (.4,.1,0),\n",
    "    \"Burundi\": (.5,0,.8)\n",
    "}\n",
    "# for further processing, we will need the names of\n",
    "# COUTRIES\n",
    "our_country_names = [k for k in colors.keys()]\n"
   ]
  },
  {
   "cell_type": "code",
   "execution_count": null,
   "metadata": {},
   "outputs": [],
   "source": [
    "# we define the function we want to be used\n",
    "# HELPER function to restrict the DATA\n",
    "def filter_country_attr_values(country_list, attr_name, attr_list):\n",
    "    result = []\n",
    "    for country in country_list:\n",
    "        for attr_value in attr_list:\n",
    "            if country.attributes[attr_name] == attr_value:\n",
    "                result.append(country)\n",
    "    return result\n",
    "# end filter_country_attr_values"
   ]
  },
  {
   "cell_type": "code",
   "execution_count": null,
   "metadata": {},
   "outputs": [],
   "source": [
    "small_list = filter_country_attr_values(\n",
    "    countries, # the large data list\n",
    "    'NAME_EN', # the attribute to use\n",
    "    our_country_names # the list of attribute values\n",
    ")"
   ]
  },
  {
   "cell_type": "code",
   "execution_count": null,
   "metadata": {},
   "outputs": [],
   "source": [
    "len(small_list)"
   ]
  },
  {
   "cell_type": "code",
   "execution_count": null,
   "metadata": {},
   "outputs": [],
   "source": [
    "# visualisation source: \n",
    "# https://gis.stackexchange.com/questions/88209/python-mapping-in-matplotlib-cartopy-color-one-country\n",
    "\n",
    "plt.figure(figsize=(12, 6))\n",
    "ax = plt.axes(projection=ccrs.PlateCarree())\n",
    "ax.stock_img()\n",
    "ax.add_feature(cartopy.feature.BORDERS, linestyle='-', alpha=.5)\n",
    "ax.add_feature(cartopy.feature.COASTLINE)\n",
    "for cs in small_list:\n",
    "    cs_col = colors[cs.attributes['NAME_EN']]\n",
    "    ax.add_geometries(cs.geometry, ccrs.PlateCarree(),\n",
    "                     facecolor = cs_col, alpha=0.2,\n",
    "                     label = cs.attributes['NAME_EN'])\n",
    "    (lon,lat) = cs.geometry.centroid.coords[0]\n",
    "    plt.text(lon,lat,cs.attributes['NAME_EN'],horizontalalignment='right',transform=ccrs.PlateCarree())\n",
    "    plt.scatter(lon,lat,marker='o',s=100,c=cs_col)\n",
    "ax.set_extent([-5, 48, -8, 22], crs=ccrs.PlateCarree())\n"
   ]
  },
  {
   "cell_type": "markdown",
   "metadata": {},
   "source": [
    "## Example using PANDAS\n",
    "\n",
    "We want to use data from <br/>\n",
    "**[WorldBank](https://data.worldbank.org/indicator)** <br>\n",
    "to show different numbers.\n"
   ]
  },
  {
   "cell_type": "code",
   "execution_count": null,
   "metadata": {},
   "outputs": [],
   "source": [
    "# we are using the PANDA dataframe library\n",
    "import pandas as pd\n",
    "from __future__ import print_function # for compatibility\n",
    "!pwd"
   ]
  },
  {
   "cell_type": "code",
   "execution_count": null,
   "metadata": {},
   "outputs": [],
   "source": [
    "df_gdp = pd.read_excel(\n",
    "  'data/countries_gdp.xls',\n",
    "  sheet_name = 'Data',\n",
    "  skiprows = range(3) # enumeration of rows to skip\n",
    "  )\n",
    "\n",
    "# Reading in other data\n",
    "df_edu_percent = pd.read_excel('data/countries_edu_percent.xls',sheet_name = 'Data',skiprows = range(3))\n",
    "df_primary_014 = pd.read_excel('data/countries_primary_pupils_014.xls',sheet_name = 'Data',skiprows = range(3))\n",
    "df_pupils_014  = pd.read_excel('data/countries_pupils_014.xls',sheet_name = 'Data',skiprows = range(3))\n",
    "\n",
    "\n",
    "# We want to have selected countries, therefore creating indices for the four data-sets\n",
    "df_gdp.set_index(\"Country Name\", inplace=True)\n",
    "df_edu_percent.set_index(\"Country Name\", inplace=True)\n",
    "df_primary_014.set_index(\"Country Name\", inplace=True)\n",
    "df_pupils_014.set_index(\"Country Name\", inplace=True)\n",
    "#\n",
    "#!! important observation: the making of indices is irreversible \n",
    "#!! and can happen only once (error if done multiple times)\n",
    "\n",
    "# we can confirm the importing\n",
    "# HERE works\n",
    "# df_gdp.head()"
   ]
  },
  {
   "cell_type": "code",
   "execution_count": null,
   "metadata": {},
   "outputs": [],
   "source": [
    "years = list( map( str, range(2010,2018)))\n",
    "\n",
    "df_gdp.loc['Nigeria', years].plot(kind='line')\n",
    "plt.legend([\"Nigeria\"])\n",
    "plt.xlabel('Years')\n",
    "plt.ylabel('GDP')"
   ]
  },
  {
   "cell_type": "code",
   "execution_count": null,
   "metadata": {},
   "outputs": [],
   "source": [
    "# Exercise\n",
    "# Plot the GDP-s for all coutries in the list\n",
    "\n",
    "# HIGHLIGHT your contry's GDP\n",
    "\n"
   ]
  },
  {
   "cell_type": "code",
   "execution_count": null,
   "metadata": {
    "scrolled": true
   },
   "outputs": [],
   "source": [
    "# plot the percent of education for the list of countries\n",
    "\n",
    "for c_name in our_country_names:\n",
    "    c_col = colors[c_name]\n",
    "    df_edu_percent.loc[c_name, years].plot(kind='bar',linewidth=4,color=c_col )\n",
    "# end for\n",
    "\n",
    "plt.legend(our_country_names,loc='upper left', bbox_to_anchor=(1, 1.2))\n",
    "plt.xlabel('Years')\n",
    "plt.ylabel('Education %')\n",
    "plt.title(\"Education percentages of GDP\")\n",
    "plt.show()"
   ]
  },
  {
   "cell_type": "code",
   "execution_count": null,
   "metadata": {
    "scrolled": false
   },
   "outputs": [],
   "source": []
  },
  {
   "cell_type": "code",
   "execution_count": null,
   "metadata": {},
   "outputs": [],
   "source": []
  },
  {
   "cell_type": "code",
   "execution_count": null,
   "metadata": {},
   "outputs": [],
   "source": [
    "years"
   ]
  }
 ],
 "metadata": {
  "kernelspec": {
   "display_name": "Python 3",
   "language": "python",
   "name": "python3"
  },
  "language_info": {
   "codemirror_mode": {
    "name": "ipython",
    "version": 3
   },
   "file_extension": ".py",
   "mimetype": "text/x-python",
   "name": "python",
   "nbconvert_exporter": "python",
   "pygments_lexer": "ipython3",
   "version": "3.6.8"
  }
 },
 "nbformat": 4,
 "nbformat_minor": 2
}
